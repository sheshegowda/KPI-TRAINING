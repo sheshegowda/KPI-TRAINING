{
 "cells": [
  {
   "cell_type": "code",
   "execution_count": 1,
   "id": "295bcba3",
   "metadata": {},
   "outputs": [],
   "source": [
    "import cx_Oracle"
   ]
  },
  {
   "cell_type": "code",
   "execution_count": 2,
   "id": "5581277c",
   "metadata": {},
   "outputs": [],
   "source": [
    "con = cx_Oracle.connect('arjundb/root@localhost:1521/xe')"
   ]
  },
  {
   "cell_type": "code",
   "execution_count": 3,
   "id": "1b45de35",
   "metadata": {},
   "outputs": [],
   "source": [
    "cursor = con.cursor()"
   ]
  },
  {
   "cell_type": "code",
   "execution_count": 15,
   "id": "a28ae6ba",
   "metadata": {},
   "outputs": [
    {
     "name": "stdout",
     "output_type": "stream",
     "text": [
      "[(101, 901, 'John Scottie Ferguson'), (102, 902, 'Miss Giddens'), (103, 903, 'T.E. Lawrence'), (104, 904, 'Michael'), (105, 905, 'Antonio Salieri'), (106, 906, 'Rick Deckard'), (107, 907, 'Alice Harford'), (108, 908, 'McManus'), (110, 910, 'Eddie Adams'), (111, 911, 'Alvy Singer'), (112, 912, 'San'), (113, 913, 'Andy Dufresne'), (114, 914, 'Lester Burnham'), (115, 915, 'Rose DeWitt Bukater'), (116, 916, 'Sean Maguire'), (117, 917, 'Ed'), (118, 918, 'Renton'), (120, 920, 'Elizabeth Darko'), (121, 921, 'Older Jamal'), (122, 922, 'Ripley'), (114, 923, 'Bobby Darin'), (109, 909, 'J.J.Gittes'), (119, 919, 'Alfred Borden')]\n"
     ]
    }
   ],
   "source": [
    "data = cursor.execute(\"SELECT * FROM MOVIE_CAST\")\n",
    "\n",
    "bingo = data.fetchall()\n",
    "\n",
    "\n",
    "\n",
    "print(bingo)\n",
    "\n",
    "\n"
   ]
  },
  {
   "cell_type": "code",
   "execution_count": 26,
   "id": "b1b22f07",
   "metadata": {},
   "outputs": [
    {
     "ename": "TypeError",
     "evalue": "There are no type variables left in list[101, 901, 'John Scottie Ferguson']",
     "output_type": "error",
     "traceback": [
      "\u001b[1;31m---------------------------------------------------------------------------\u001b[0m",
      "\u001b[1;31mTypeError\u001b[0m                                 Traceback (most recent call last)",
      "\u001b[1;32mC:\\Users\\ARJUNS~1\\AppData\\Local\\Temp/ipykernel_23536/338057859.py\u001b[0m in \u001b[0;36m<module>\u001b[1;34m\u001b[0m\n\u001b[0;32m      3\u001b[0m \u001b[1;32mfor\u001b[0m \u001b[0mi\u001b[0m \u001b[1;32min\u001b[0m \u001b[0mdinga\u001b[0m\u001b[1;33m:\u001b[0m\u001b[1;33m\u001b[0m\u001b[1;33m\u001b[0m\u001b[0m\n\u001b[0;32m      4\u001b[0m     \u001b[0ml\u001b[0m\u001b[1;33m=\u001b[0m\u001b[0mlist\u001b[0m\u001b[1;33m[\u001b[0m\u001b[0mi\u001b[0m\u001b[1;33m]\u001b[0m\u001b[1;33m\u001b[0m\u001b[1;33m\u001b[0m\u001b[0m\n\u001b[1;32m----> 5\u001b[1;33m     \u001b[1;32mif\u001b[0m \u001b[0ml\u001b[0m\u001b[1;33m[\u001b[0m\u001b[1;36m0\u001b[0m\u001b[1;33m]\u001b[0m\u001b[1;33m>\u001b[0m\u001b[1;36m102\u001b[0m \u001b[1;32mand\u001b[0m \u001b[0ml\u001b[0m\u001b[1;33m[\u001b[0m\u001b[1;36m0\u001b[0m\u001b[1;33m]\u001b[0m\u001b[1;33m<\u001b[0m\u001b[1;36m105\u001b[0m\u001b[1;33m:\u001b[0m\u001b[1;33m\u001b[0m\u001b[1;33m\u001b[0m\u001b[0m\n\u001b[0m\u001b[0;32m      6\u001b[0m         \u001b[0mprint\u001b[0m\u001b[1;33m(\u001b[0m\u001b[0ml\u001b[0m\u001b[1;33m)\u001b[0m\u001b[1;33m\u001b[0m\u001b[1;33m\u001b[0m\u001b[0m\n",
      "\u001b[1;31mTypeError\u001b[0m: There are no type variables left in list[101, 901, 'John Scottie Ferguson']"
     ]
    }
   ],
   "source": [
    "data = cursor.execute(\"SELECT * FROM MOVIE_CAST\")\n",
    "dinga = data.fetchmany()\n",
    "for i in dinga:\n",
    "    l=list[i]\n",
    "    if l[0]>102 and l[0]<105:\n",
    "        print(l)"
   ]
  },
  {
   "cell_type": "code",
   "execution_count": 27,
   "id": "c21c2cbf",
   "metadata": {},
   "outputs": [
    {
     "name": "stdout",
     "output_type": "stream",
     "text": [
      "(101, 901, 'John Scottie Ferguson')\n"
     ]
    }
   ],
   "source": [
    "data = cursor.execute(\"SELECT * FROM MOVIE_CAST\")\n",
    "dinga = data.fetchone()\n",
    "print(dinga)"
   ]
  },
  {
   "cell_type": "code",
   "execution_count": 40,
   "id": "11f85a39",
   "metadata": {},
   "outputs": [
    {
     "name": "stdout",
     "output_type": "stream",
     "text": [
      "Table created successfully\n",
      "closed \n"
     ]
    }
   ],
   "source": [
    "import cx_Oracle \n",
    "try: \n",
    "    con=cx_Oracle.connect('arjundb/root@localhost') \n",
    "    cursor=con.cursor() \n",
    "\n",
    "    cursor.execute(\"create table employees(eno number,ename varchar2(10),esal number(10,2),eaddr varchar2(10))\") \n",
    "    print(\"Table created successfully\") \n",
    "except cx_Oracle.DatabaseError as e: \n",
    "    if con: \n",
    "        con.rollback() \n",
    "        print(\"There is a problem with sql\",e) \n",
    "finally: \n",
    "    if cursor: \n",
    "        cursor.close() \n",
    "    \n",
    "    if con: \n",
    "        con.close()\n",
    "    print(\"closed \")"
   ]
  },
  {
   "cell_type": "code",
   "execution_count": 39,
   "id": "0b0855c0",
   "metadata": {},
   "outputs": [
    {
     "name": "stdout",
     "output_type": "stream",
     "text": [
      "Table dropped successfully\n"
     ]
    }
   ],
   "source": [
    "import cx_Oracle \n",
    "try: \n",
    "    con=cx_Oracle.connect('arjundb/root@localhost') \n",
    "    cursor=con.cursor() \n",
    "    cursor.execute(\"drop table employees\") \n",
    "    print(\"Table dropped successfully\") \n",
    "except cx_Oracle.DatabaseError as e: \n",
    "    if con: \n",
    "        con.rollback() \n",
    "        print(\"There is a problem with sql\",e) \n",
    "finally: \n",
    "    if cursor: \n",
    "        cursor.close() \n",
    "    if con: \n",
    "        con.close()"
   ]
  },
  {
   "cell_type": "code",
   "execution_count": 43,
   "id": "5299005c",
   "metadata": {},
   "outputs": [
    {
     "name": "stdout",
     "output_type": "stream",
     "text": [
      "Records Inserted Successfully\n"
     ]
    }
   ],
   "source": [
    "import cx_Oracle \n",
    "try: \n",
    "    con=cx_Oracle.connect('arjundb/root@localhost') \n",
    "    cursor=con.cursor() \n",
    "    sql=\"insert into employees values(:eno,:ename,:esal,:eaddr)\" \n",
    "    records=[(200,'Sunny',2000,'Mumbai'), \n",
    "   (300,'Chinny',3000,'Hyd'), \n",
    "   (400,'Bunny',4000,'Hyd')] \n",
    "    cursor.executemany(sql,records) \n",
    "    con.commit() \n",
    "    print(\"Records Inserted Successfully\") \n",
    "except cx_Oracle.DatabaseError as e: \n",
    "    if con: \n",
    "        con.rollback() \n",
    "        print(\"There is a problem with sql\",e) \n",
    "finally: \n",
    "    if cursor: \n",
    "        cursor.close() \n",
    "    if con: \n",
    "        con.close()"
   ]
  },
  {
   "cell_type": "code",
   "execution_count": null,
   "id": "695de335",
   "metadata": {},
   "outputs": [
    {
     "name": "stdout",
     "output_type": "stream",
     "text": [
      "Enter Employee Number:800\n",
      "Enter Employee Name:Anif\n",
      "Enter Employee Salary:100\n",
      "Enter Employee Address:Ananthapur\n",
      "Record Inserted Successfully\n",
      "Do you want to insert one more record[Yes|No] :yes\n",
      "Enter Employee Number:801\n",
      "Enter Employee Name:Singham\n",
      "Enter Employee Salary:2000\n",
      "Enter Employee Address:Chennai\n",
      "Record Inserted Successfully\n",
      "Do you want to insert one more record[Yes|No] :no\n"
     ]
    }
   ],
   "source": [
    "import cx_Oracle \n",
    "try: \n",
    "    con=cx_Oracle.connect('arjundb/root@localhost') \n",
    "    cursor=con.cursor() \n",
    "    ans=input(\"yes or no\")\n",
    "    while ans=\"yes\": \n",
    "        eno=int(input(\"Enter Employee Number:\")) \n",
    "        ename=input(\"Enter Employee Name:\") \n",
    "        esal=float(input(\"Enter Employee Salary:\")) \n",
    "        eaddr=input(\"Enter Employee Address:\") \n",
    "        sql=\"insert into employees values(%d,'%s',%f,'%s')\" \n",
    "        cursor.execute(sql %(eno,ename,esal,eaddr)) \n",
    "        print(\"Record Inserted Successfully\") \n",
    "       ## option=input(\"Do you want to insert one more record[Yes|No] :\") \n",
    "        ans=input(\"yes or no\")\n",
    "        if option==\"No\": \n",
    "            con.commit\n",
    "            break \n",
    "except cx_Oracle.DatabaseError as e: \n",
    "      if con: \n",
    "        con.rollback() \n",
    "        print(\"There is a problem with sql :\",e) \n",
    "finally: \n",
    "        if cursor: \n",
    "            cursor.close() \n",
    "        if con: \n",
    "            con.close() \n"
   ]
  },
  {
   "cell_type": "code",
   "execution_count": null,
   "id": "cd433068",
   "metadata": {},
   "outputs": [],
   "source": []
  }
 ],
 "metadata": {
  "kernelspec": {
   "display_name": "Python 3 (ipykernel)",
   "language": "python",
   "name": "python3"
  },
  "language_info": {
   "codemirror_mode": {
    "name": "ipython",
    "version": 3
   },
   "file_extension": ".py",
   "mimetype": "text/x-python",
   "name": "python",
   "nbconvert_exporter": "python",
   "pygments_lexer": "ipython3",
   "version": "3.9.7"
  }
 },
 "nbformat": 4,
 "nbformat_minor": 5
}
